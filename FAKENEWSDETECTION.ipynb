{
 "cells": [
  {
   "cell_type": "code",
   "execution_count": null,
   "id": "9f36e8ef-b191-408d-8c13-9196891979f2",
   "metadata": {},
   "outputs": [],
   "source": [
    "import pandas as pd\n",
    "import numpy as np\n",
    "import seaborn as sns\n",
    "import matplotlib.pyplot as plt\n",
    "from sklearn.model_selection import train_test_split\n",
    "from sklearn.metrics import accuracy_score\n",
    "from sklearn.metrics import classification_report\n",
    "import re\n",
    "import string"
   ]
  },
  {
   "cell_type": "code",
   "execution_count": null,
   "id": "2e874b7c-bdc1-421b-bd7c-b43695e14fb6",
   "metadata": {},
   "outputs": [],
   "source": [
    "data_fake=pd.read_csv(\"C:\\\\Users\\\\Angsh\\\\Downloads\\\\Fakenews.csv\")\n",
    "data_true=pd.read_csv(\"C:\\\\Users\\\\Angsh\\\\Downloads\\\\Truenews.csv\")\n"
   ]
  },
  {
   "cell_type": "code",
   "execution_count": null,
   "id": "e393886e-dae8-406d-acb2-5819fb3dfe0f",
   "metadata": {},
   "outputs": [],
   "source": [
    "data_fake.head()"
   ]
  },
  {
   "cell_type": "code",
   "execution_count": null,
   "id": "1b949bbc-3ecb-47a4-aa99-ba35ec537660",
   "metadata": {},
   "outputs": [],
   "source": [
    "data_true.head()"
   ]
  },
  {
   "cell_type": "code",
   "execution_count": null,
   "id": "17f43e77-dd2e-4e21-b631-bbb2b8705b3c",
   "metadata": {},
   "outputs": [],
   "source": [
    "data_fake[\"class\"]=0\n",
    "data_true[\"class\"]=1"
   ]
  },
  {
   "cell_type": "code",
   "execution_count": null,
   "id": "f1177609-e560-494f-8fc7-dd71650a872f",
   "metadata": {},
   "outputs": [],
   "source": [
    "data_fake.shape,data_true.shape"
   ]
  },
  {
   "cell_type": "code",
   "execution_count": null,
   "id": "911cbc22-6fa5-45db-8cd8-2b5e3ddb4436",
   "metadata": {},
   "outputs": [],
   "source": [
    "\n",
    "data_fake_manual_testing = data_fake.tail(10)\n",
    "data_true_manual_testing = data_true.tail(10)\n",
    "for i in range(23480, 23470, -1):\n",
    "    data_fake.drop(i, axis=0, inplace=True)\n",
    "\n",
    "for i in range(21416, 21406, -1):\n",
    "    data_true.drop(i, axis=0, inplace=True)\n",
    "\n"
   ]
  },
  {
   "cell_type": "code",
   "execution_count": null,
   "id": "744c1fd7-a730-4f83-8f37-12e9adcddeaa",
   "metadata": {},
   "outputs": [],
   "source": [
    "data_fake.shape,data_true.shape"
   ]
  },
  {
   "cell_type": "code",
   "execution_count": null,
   "id": "d3b5b117-d57a-48de-966e-1dc3b79ee48d",
   "metadata": {},
   "outputs": [],
   "source": [
    "data_merge =pd.concat([data_fake,data_true],axis=0)\n",
    "data_merge.head()"
   ]
  },
  {
   "cell_type": "code",
   "execution_count": null,
   "id": "af870828-7b75-463a-854d-e103cc1c11f3",
   "metadata": {},
   "outputs": [],
   "source": [
    "data_merge.columns"
   ]
  },
  {
   "cell_type": "code",
   "execution_count": null,
   "id": "c51f34b2-677c-4d84-9649-7a3fb819c093",
   "metadata": {},
   "outputs": [],
   "source": [
    "data= data_merge.drop(['title','subject','date'],axis=1)"
   ]
  },
  {
   "cell_type": "code",
   "execution_count": null,
   "id": "035e4434-c244-4e4b-a8fc-106d5e7f4cd9",
   "metadata": {},
   "outputs": [],
   "source": [
    "data= data_merge.drop(['title','subject','date'],axis=1)"
   ]
  },
  {
   "cell_type": "code",
   "execution_count": null,
   "id": "745aefcc-e2aa-4b7f-a4d3-e236399b4e6d",
   "metadata": {},
   "outputs": [],
   "source": [
    "data.reset_index(inplace=True)\n",
    "data.drop(['index'],axis=1,inplace=True)"
   ]
  },
  {
   "cell_type": "code",
   "execution_count": null,
   "id": "0ae6bd92-625d-4f32-9588-5e6f26f5f5dc",
   "metadata": {},
   "outputs": [],
   "source": [
    "\n",
    "\n",
    "def wordopt(text):\n",
    "    text = text.lower()  # convert to lowercase\n",
    "    text = re.sub(r'\\[.*?\\]', '', text)  # remove text in square brackets\n",
    "    text = re.sub(r'\\\\W', ' ', text)  # replace non-word characters with space\n",
    "    text = re.sub(r'https?://\\S+|www\\.\\S+', '', text)  # remove URLs\n",
    "    text = re.sub(r'<.*?>+', '', text)  # remove HTML tags\n",
    "    text = re.sub(r'[%s]' % re.escape(string.punctuation), '', text)  # remove punctuation\n",
    "    text = re.sub(r'\\n', '', text)  # remove newline characters\n",
    "    return text\n"
   ]
  },
  {
   "cell_type": "code",
   "execution_count": null,
   "id": "2eb195d5-88d2-4a6b-9ba2-58108f0c79bb",
   "metadata": {},
   "outputs": [],
   "source": [
    "data['text']=data['text'].apply(wordopt)"
   ]
  },
  {
   "cell_type": "code",
   "execution_count": null,
   "id": "08b895ba-fd9b-4904-be76-95cabaaabe1d",
   "metadata": {},
   "outputs": [],
   "source": [
    "x=data['text']\n",
    "y=data['class']"
   ]
  },
  {
   "cell_type": "code",
   "execution_count": null,
   "id": "b0be90ea-618d-4d55-89e6-04b3ecd50469",
   "metadata": {},
   "outputs": [],
   "source": [
    "x_train,x_test,y_train,y_test=train_test_split(x,y,test_size=0.3)"
   ]
  },
  {
   "cell_type": "code",
   "execution_count": null,
   "id": "eecf8687-0c45-41b4-a5da-c78392a29e5c",
   "metadata": {},
   "outputs": [],
   "source": [
    "from sklearn.feature_extraction.text import TfidfVectorizer\n",
    "\n",
    "vectorization = TfidfVectorizer()  # typo fixed here\n",
    "xv_train = vectorization.fit_transform(x_train)\n",
    "xv_test = vectorization.transform(x_test)\n"
   ]
  },
  {
   "cell_type": "code",
   "execution_count": null,
   "id": "51f1487f-0462-45b9-b3f1-46e9a1742881",
   "metadata": {},
   "outputs": [],
   "source": [
    "from sklearn.linear_model import LogisticRegression\n",
    "LR=LogisticRegression()\n",
    "LR.fit(xv_train,y_train)"
   ]
  },
  {
   "cell_type": "code",
   "execution_count": null,
   "id": "9c24df96-d3b3-41a6-8f7b-a6cb4f51ea48",
   "metadata": {},
   "outputs": [],
   "source": [
    "pred_lr=LR.predict(xv_test)\n",
    "LR.score(xv_test,y_test)"
   ]
  },
  {
   "cell_type": "code",
   "execution_count": null,
   "id": "1bc555fd-f5c9-4861-9501-534eb9b3b76e",
   "metadata": {},
   "outputs": [],
   "source": [
    "print(classification_report(y_test,pred_lr))"
   ]
  },
  {
   "cell_type": "code",
   "execution_count": null,
   "id": "1b6dfc98-9876-4b7c-87ea-b20886f4152b",
   "metadata": {},
   "outputs": [],
   "source": [
    "from sklearn.tree import DecisionTreeClassifier\n",
    "DT=DecisionTreeClassifier()\n",
    "DT.fit(xv_train,y_train)\n",
    "pred_dt=LR.predict(xv_test)"
   ]
  },
  {
   "cell_type": "code",
   "execution_count": null,
   "id": "65c7834e-b5f9-4140-ad6d-cf340fa5d2bb",
   "metadata": {},
   "outputs": [],
   "source": [
    "DT.score(xv_test,y_test)"
   ]
  },
  {
   "cell_type": "code",
   "execution_count": null,
   "id": "9d100b82-875d-4879-90f7-dfad768af2f8",
   "metadata": {},
   "outputs": [],
   "source": [
    "print(classification_report(y_test,pred_lr))"
   ]
  },
  {
   "cell_type": "code",
   "execution_count": null,
   "id": "ce9ddf84-6ed4-49b1-91c3-2d4b05c0e367",
   "metadata": {},
   "outputs": [],
   "source": [
    "from sklearn.ensemble import GradientBoostingClassifier\n",
    "GB=GradientBoostingClassifier(random_state=0)\n",
    "GB.fit(xv_train,y_train)\n",
    "pred_gb=GB.predict(xv_test)\n",
    "GB.score(xv_test,y_test)\n",
    "print(classification_report(y_test,pred_gb))"
   ]
  },
  {
   "cell_type": "code",
   "execution_count": null,
   "id": "af979b8c-9b8c-4ede-8451-8ee67abebb89",
   "metadata": {},
   "outputs": [],
   "source": [
    "from sklearn.ensemble import RandomForestClassifier\n",
    "RF=RandomForestClassifier(random_state=0)\n",
    "RF.fit(xv_train,y_train)\n",
    "pred_rf=RF.predict(xv_test)\n",
    "RF.score(xv_test,y_test)\n",
    "print(classification_report(y_test,pred_rf))"
   ]
  },
  {
   "cell_type": "code",
   "execution_count": null,
   "id": "2ff91dba-956e-4cc0-b3a3-8533e7e45128",
   "metadata": {},
   "outputs": [],
   "source": [
    "def output_lable(n):\n",
    "    if n==0:\n",
    "        return \"Fake News\"\n",
    "    elif n==1:\n",
    "        return \"Not a Fake News\"\n",
    "def manual_testing(news):\n",
    "    testing_news={\"text\":[news]}\n",
    "    new_def_test=pd.DataFrame(testing_news)\n",
    "    new_def_test[\"text\"]=news_def_test[\"text\"].apply(wordopt)\n",
    "    new_x_test=new_def_test[\"text\"]\n",
    "    new_xv_test=vectorization.transform(new_x_test)\n",
    "    pred_LR=LR.predict(new_xv_test)\n",
    "    pred_DT=DT.predict(new_xv_test)\n",
    "    pred_GB=GB.predict(new_xv_test)\n",
    "    pred_RF=RF.predict(new_xv_test)\n",
    "    return print(\"\\n\\nLR Prediction:{}\\nDT Prediction:{} \\nGB Prediction: {}\\nRF Prediction:{}\")\n",
    "    "
   ]
  },
  {
   "cell_type": "code",
   "execution_count": null,
   "id": "a86b77bc-e0c0-4192-a878-766871bfaf95",
   "metadata": {},
   "outputs": [],
   "source": [
    "news=str(input())\n",
    "manual_testing(news)"
   ]
  },
  {
   "cell_type": "code",
   "execution_count": null,
   "id": "454c0dbc-1214-4658-9a7b-ea77c08e2f9b",
   "metadata": {},
   "outputs": [],
   "source": []
  },
  {
   "cell_type": "code",
   "execution_count": null,
   "id": "62f80a6e-c678-47e7-bd9a-ed06841e5ebf",
   "metadata": {},
   "outputs": [],
   "source": []
  },
  {
   "cell_type": "code",
   "execution_count": null,
   "id": "d0f8856d-6f70-4e4c-9301-a23744704df2",
   "metadata": {},
   "outputs": [],
   "source": []
  },
  {
   "cell_type": "code",
   "execution_count": null,
   "id": "e7b458c8-7cb3-4858-a0b1-5d7a9ecfdb3d",
   "metadata": {},
   "outputs": [],
   "source": []
  },
  {
   "cell_type": "code",
   "execution_count": null,
   "id": "92c2b14d-4174-40de-bfcf-3386ea17d8b9",
   "metadata": {},
   "outputs": [],
   "source": []
  }
 ],
 "metadata": {
  "kernelspec": {
   "display_name": "Python [conda env:base] *",
   "language": "python",
   "name": "conda-base-py"
  },
  "language_info": {
   "codemirror_mode": {
    "name": "ipython",
    "version": 3
   },
   "file_extension": ".py",
   "mimetype": "text/x-python",
   "name": "python",
   "nbconvert_exporter": "python",
   "pygments_lexer": "ipython3",
   "version": "3.12.7"
  }
 },
 "nbformat": 4,
 "nbformat_minor": 5
}
